{
 "cells": [
  {
   "cell_type": "markdown",
   "metadata": {},
   "source": [
    "# README Notebook\n",
    "This notebook is a template. Please make a copy and following the conventions for naming and structure."
   ]
  },
  {
   "cell_type": "markdown",
   "metadata": {},
   "source": [
    "## Notebook Naming Conventions\n",
    "\n",
    "Please name notebooks as step-initials-description.ipynb\n",
    "\n",
    "0.01-pjb-data-source-1.ipynb\n",
    "\n",
    "- 0.01 - Helps keep work in chronological order. The structure is PHASE.NOTEBOOK. NOTEBOOK is just the Nth notebook in that phase to be created. For phases of the project, we generally use a scheme like the following, but you are welcome to design your own conventions:\n",
    "    - 0 - Data exploration - often just for exploratory work\n",
    "    - 1 - Data cleaning and feature creation - often writes data to data/processed or data/interim\n",
    "    - 2 - Visualizations - often writes publication-ready viz to reports\n",
    "    - 3 - Modeling - training machine learning models\n",
    "    - 4 - Publication - Notebooks that get turned directly into reports\n",
    "- pjb - Your initials; this is helpful for knowing who created the notebook and prevents collisions from people working in the same notebook.\n",
    "- data-source-1 - A description of what the notebook covers"
   ]
  },
  {
   "cell_type": "markdown",
   "metadata": {},
   "source": [
    "## Autoreload and Importing Modules"
   ]
  },
  {
   "cell_type": "markdown",
   "metadata": {},
   "source": [
    "We make it easy to refactor notebook code because the ccds template makes your project a Python package by default and installs it locally in the requirements file of your chosen environment manager. This enables you to import your project's source code and use it in notebooks with a cell like the following:"
   ]
  },
  {
   "cell_type": "code",
   "execution_count": 9,
   "metadata": {},
   "outputs": [
    {
     "name": "stdout",
     "output_type": "stream",
     "text": [
      "The autoreload extension is already loaded. To reload it, use:\n",
      "  %reload_ext autoreload\n",
      "\u001b[32m2024-08-06 15:34:49.403\u001b[0m | \u001b[1mINFO    \u001b[0m | \u001b[36msynch_de.dataset\u001b[0m:\u001b[36mgreet\u001b[0m:\u001b[36m14\u001b[0m - \u001b[1mHello, welcome to the dataset processing script!\u001b[0m\n"
     ]
    }
   ],
   "source": [
    "# OPTIONAL: Load the \"autoreload\" extension so that code can change\n",
    "%load_ext autoreload\n",
    "\n",
    "# OPTIONAL: always reload modules so that as you change code\n",
    "# in {{ cookiecutter.module_name }}, it gets loaded\n",
    "# More info on autoreload: https://ipython.readthedocs.io/en/stable/config/extensions/autoreload.html\n",
    "# https://ipython.org/ipython-doc/3/config/extensions/autoreload.html\n",
    "\n",
    "%autoreload 2\n",
    "\n",
    "from synch_de.dataset import greet\n",
    "greet()"
   ]
  },
  {
   "cell_type": "code",
   "execution_count": 10,
   "metadata": {},
   "outputs": [
    {
     "name": "stdout",
     "output_type": "stream",
     "text": [
      "\u001b[32m2024-08-06 15:34:50.132\u001b[0m | \u001b[1mINFO    \u001b[0m | \u001b[36msynch_de.dataset\u001b[0m:\u001b[36mgreet\u001b[0m:\u001b[36m14\u001b[0m - \u001b[1mHello, welcome to the dataset processing script!\u001b[0m\n"
     ]
    }
   ],
   "source": [
    "# Example of how to reload the modules\n",
    "%reload_ext autoreload\n",
    "greet()"
   ]
  },
  {
   "cell_type": "markdown",
   "metadata": {},
   "source": [
    "As your project goes on, you'll want to refactor your code in a way that makes it easy to share between notebooks and scripts. We recommend creating a module in the {{ cookiecutter.module_name }} folder that contains the code you use in your project. This is a good way to make sure that you can use the same code in multiple places without having to copy and paste it.\n",
    "\n",
    "Because the default structure is a Python package and is installed by default, you can do the following to make that code available to you within a Jupyter notebook.\n",
    "\n",
    "First, we recommend turning on the autoreload extension. This will make Jupyter always go back to the source code for the module rather than caching it in memory. If your notebook isn't reflecting the latest changes from your changes to a .py file, try restarting the kernel and make sure autoreload is on. We add a cell at the top of the notebook with the following"
   ]
  },
  {
   "cell_type": "markdown",
   "metadata": {},
   "source": [
    "## Using the Template\n",
    "\n",
    "For more information on how to use cookie cutter data science. Please see the\n",
    "[using the template](https://cookiecutter-data-science.drivendata.org/using-the-template/)\n",
    "guide.\n"
   ]
  }
 ],
 "metadata": {
  "kernelspec": {
   "display_name": "Python 3 (ipykernel)",
   "language": "python",
   "name": "python3"
  },
  "language_info": {
   "codemirror_mode": {
    "name": "ipython",
    "version": 3
   },
   "file_extension": ".py",
   "mimetype": "text/x-python",
   "name": "python",
   "nbconvert_exporter": "python",
   "pygments_lexer": "ipython3",
   "version": "3.12.4"
  }
 },
 "nbformat": 4,
 "nbformat_minor": 4
}
