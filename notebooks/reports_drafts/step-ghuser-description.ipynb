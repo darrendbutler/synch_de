{
 "cells": [
  {
   "cell_type": "markdown",
   "metadata": {},
   "source": [
    "# Template Notebook\n",
    "This notebook is a template. Please make a copy and following the conventions for naming and structure."
   ]
  },
  {
   "cell_type": "code",
   "execution_count": 1,
   "metadata": {},
   "outputs": [
    {
     "data": {
      "text/plain": [
       "'This is a docstring.'"
      ]
     },
     "execution_count": 1,
     "metadata": {},
     "output_type": "execute_result"
    }
   ],
   "source": [
    "\"\"\"This is a docstring.\"\"\""
   ]
  },
  {
   "cell_type": "markdown",
   "metadata": {},
   "source": [
    "We make it easy to refactor notebook code because the ccds template makes your project a Python package by default and installs it locally in the requirements file of your chosen environment manager. This enables you to import your project's source code and use it in notebooks with a cell like the following:"
   ]
  },
  {
   "cell_type": "code",
   "execution_count": 6,
   "metadata": {},
   "outputs": [
    {
     "name": "stdout",
     "output_type": "stream",
     "text": [
      "The autoreload extension is already loaded. To reload it, use:\n",
      "  %reload_ext autoreload\n",
      "\u001b[32m2024-08-06 01:08:42.446\u001b[0m | \u001b[1mINFO    \u001b[0m | \u001b[36msynch_de.dataset\u001b[0m:\u001b[36mgreet\u001b[0m:\u001b[36m14\u001b[0m - \u001b[1mHello, welcome to the dataset processing script!\u001b[0m\n"
     ]
    }
   ],
   "source": [
    "# OPTIONAL: Load the \"autoreload\" extension so that code can change\n",
    "%load_ext autoreload\n",
    "\n",
    "# OPTIONAL: always reload modules so that as you change code\n",
    "# in {{ cookiecutter.module_name }}, it gets loaded\n",
    "# More info on autoreload: https://ipython.readthedocs.io/en/stable/config/extensions/autoreload.html\n",
    "# https://ipython.org/ipython-doc/3/config/extensions/autoreload.html\n",
    "\n",
    "%autoreload 2\n",
    "\n",
    "from synch_de.dataset import greet\n",
    "greet()"
   ]
  },
  {
   "cell_type": "code",
   "execution_count": 8,
   "metadata": {},
   "outputs": [
    {
     "name": "stdout",
     "output_type": "stream",
     "text": [
      "\u001b[32m2024-08-06 01:11:10.832\u001b[0m | \u001b[1mINFO    \u001b[0m | \u001b[36msynch_de.dataset\u001b[0m:\u001b[36mgreet\u001b[0m:\u001b[36m14\u001b[0m - \u001b[1mHello, welcome to the dataset processing script!\u001b[0m\n"
     ]
    }
   ],
   "source": [
    "# Example of how to reload the modules\n",
    "%reload_ext autoreload\n",
    "greet()"
   ]
  }
 ],
 "metadata": {
  "kernelspec": {
   "display_name": "Python 3 (ipykernel)",
   "language": "python",
   "name": "python3"
  },
  "language_info": {
   "codemirror_mode": {
    "name": "ipython",
    "version": 3
   },
   "file_extension": ".py",
   "mimetype": "text/x-python",
   "name": "python",
   "nbconvert_exporter": "python",
   "pygments_lexer": "ipython3",
   "version": "3.12.4"
  }
 },
 "nbformat": 4,
 "nbformat_minor": 4
}
